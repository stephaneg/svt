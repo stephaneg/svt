{
 "cells": [
  {
   "cell_type": "markdown",
   "metadata": {},
   "source": [
    "# Energie Solaire"
   ]
  },
  {
   "cell_type": "markdown",
   "metadata": {},
   "source": [
    "Calculer l'énergie totale interceptée par la terre sur une durée de 1 an\n",
    "Sachant que :\n",
    "* le rayon terrestre est de 6368km\n",
    "* la constante solaire est de 1361W/m2\n"
   ]
  },
  {
   "cell_type": "code",
   "execution_count": 1,
   "metadata": {},
   "outputs": [],
   "source": [
    "R = 6368 * 1000\n",
    "const_solaire = 1361"
   ]
  },
  {
   "cell_type": "markdown",
   "metadata": {},
   "source": [
    "## chargement de la libraire math"
   ]
  },
  {
   "cell_type": "code",
   "execution_count": 2,
   "metadata": {},
   "outputs": [],
   "source": [
    "import math"
   ]
  },
  {
   "cell_type": "markdown",
   "metadata": {},
   "source": [
    "## Calcul de la surface de la terre"
   ]
  },
  {
   "cell_type": "code",
   "execution_count": 3,
   "metadata": {},
   "outputs": [
    {
     "name": "stdout",
     "output_type": "stream",
     "text": [
      "Surface de la terre en m2 : 127396055731004.81\n"
     ]
    }
   ],
   "source": [
    "surface_terre = math.pi * R * R\n",
    "print(\"Surface de la terre en m2 : \"+str(surface_terre))"
   ]
  },
  {
   "cell_type": "markdown",
   "metadata": {},
   "source": [
    "## Calcul de l'énergie reçue par la totalité de la terre pendant 1 sec"
   ]
  },
  {
   "cell_type": "code",
   "execution_count": 4,
   "metadata": {},
   "outputs": [
    {
     "name": "stdout",
     "output_type": "stream",
     "text": [
      "Energie reçue par la totalité de la terre pendant 1 sec : 1.7338603184989754e+17\n"
     ]
    }
   ],
   "source": [
    "energie = surface_terre * const_solaire\n",
    "print(\"Energie reçue par la totalité de la terre pendant 1 sec : \"+str(energie))"
   ]
  },
  {
   "cell_type": "code",
   "execution_count": 5,
   "metadata": {},
   "outputs": [
    {
     "name": "stdout",
     "output_type": "stream",
     "text": [
      "Energie reçue par la totalité de la terre pendant 1 an : 5.467901900418369e+24\n"
     ]
    }
   ],
   "source": [
    "energie_annuelle = energie * 365 * 24 * 60 * 60 \n",
    "print(\"Energie reçue par la totalité de la terre pendant 1 an : \"+str(energie_annuelle))"
   ]
  },
  {
   "cell_type": "code",
   "execution_count": null,
   "metadata": {},
   "outputs": [],
   "source": []
  }
 ],
 "metadata": {
  "kernelspec": {
   "display_name": "Python 3",
   "language": "python",
   "name": "python3"
  },
  "language_info": {
   "codemirror_mode": {
    "name": "ipython",
    "version": 3
   },
   "file_extension": ".py",
   "mimetype": "text/x-python",
   "name": "python",
   "nbconvert_exporter": "python",
   "pygments_lexer": "ipython3",
   "version": "3.7.3"
  }
 },
 "nbformat": 4,
 "nbformat_minor": 2
}
