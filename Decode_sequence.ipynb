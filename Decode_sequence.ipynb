{
 "cells": [
  {
   "cell_type": "markdown",
   "metadata": {},
   "source": [
    "# Lecture d'une sequence d'ADN \n"
   ]
  },
  {
   "cell_type": "markdown",
   "metadata": {},
   "source": [
    "## chargement des librairies python"
   ]
  },
  {
   "cell_type": "code",
   "execution_count": 1,
   "metadata": {},
   "outputs": [],
   "source": [
    "import json\n",
    "import matplotlib\n",
    "import matplotlib.pyplot as plt"
   ]
  },
  {
   "cell_type": "markdown",
   "metadata": {},
   "source": [
    "## chargement du code genetique\n",
    "code est une map associant chaque codon à une proteine\n",
    "le code génétique est stocké dans un fichier json nommé dico.txt"
   ]
  },
  {
   "cell_type": "code",
   "execution_count": 2,
   "metadata": {},
   "outputs": [],
   "source": [
    "code = json.load(open(\"dico.txt\"))"
   ]
  },
  {
   "cell_type": "markdown",
   "metadata": {},
   "source": [
    "## chargement de la sequence ADN\n",
    "On suppose la séquence correctement formée"
   ]
  },
  {
   "cell_type": "code",
   "execution_count": 3,
   "metadata": {},
   "outputs": [
    {
     "name": "stdout",
     "output_type": "stream",
     "text": [
      "sequence a décoder : >UACGCCCUAGCUUACGCAUUA<\n"
     ]
    }
   ],
   "source": [
    "f = open (\"seq1.txt\", \"r\")\n",
    "sequence = f.read().replace(\"\\n\", \"\")\n",
    "print(\"sequence a décoder : >\"+sequence+\"<\")\n",
    "if len(sequence)%3>0 :\n",
    "    print(\"Attention : la séquence est invalide\")"
   ]
  },
  {
   "cell_type": "markdown",
   "metadata": {},
   "source": [
    "## Iteration sur la sequence d'ADN\n",
    "On lit chaque codon et on détermine la protéine associée"
   ]
  },
  {
   "cell_type": "code",
   "execution_count": 4,
   "metadata": {},
   "outputs": [
    {
     "name": "stdout",
     "output_type": "stream",
     "text": [
      "decoding codon UAC\n",
      "decoding codon GCC\n",
      "decoding codon CUA\n",
      "decoding codon GCU\n",
      "decoding codon UAC\n",
      "decoding codon GCA\n",
      "decoding codon UUA\n"
     ]
    }
   ],
   "source": [
    "proteine = \"\"\n",
    "acide_amine=\"\"\n",
    "\n",
    "for position in range(len(sequence)//3) :\n",
    "    codon = sequence[3*position : 3*position+3]\n",
    "    print(\"decoding codon \"+codon)\n",
    "    if codon in code:\n",
    "        acide_amine = code[codon]\n",
    "    else:\n",
    "        print(\"codon \"+codon+\" is missing in genetic code\")\n",
    "    \n",
    "    if acide_amine == \"STOP\" :\n",
    "        break\n",
    "    else:\n",
    "        proteine = proteine + \" \" + acide_amine\n"
   ]
  },
  {
   "cell_type": "markdown",
   "metadata": {},
   "source": [
    "## Affichage de la proteine décodée"
   ]
  },
  {
   "cell_type": "code",
   "execution_count": 5,
   "metadata": {},
   "outputs": [
    {
     "name": "stdout",
     "output_type": "stream",
     "text": [
      "Proteine: Tyr Ala Leu Ala Tyr Ala Leu\n"
     ]
    }
   ],
   "source": [
    "print(\"Proteine:\"+proteine)"
   ]
  },
  {
   "cell_type": "markdown",
   "metadata": {},
   "source": [
    "## Affichage du graphique"
   ]
  },
  {
   "cell_type": "markdown",
   "metadata": {},
   "source": [
    "### Preparation des données"
   ]
  },
  {
   "cell_type": "code",
   "execution_count": 6,
   "metadata": {},
   "outputs": [
    {
     "name": "stdout",
     "output_type": "stream",
     "text": [
      "{'Tyr': 2, 'Ala': 3, 'Leu': 2}\n"
     ]
    }
   ],
   "source": [
    "data = { }\n",
    "proteine = proteine [1:]\n",
    "for elt in proteine.split(\" \"):\n",
    "    if elt in data:\n",
    "        data[elt] = data[elt]+1\n",
    "    else :\n",
    "        data[elt] =1\n",
    "        \n",
    "print(data)"
   ]
  },
  {
   "cell_type": "markdown",
   "metadata": {},
   "source": [
    "### Preparation du graph"
   ]
  },
  {
   "cell_type": "code",
   "execution_count": 9,
   "metadata": {},
   "outputs": [
    {
     "data": {
      "image/png": "[encoded data removed]",
      "text/plain": [
       "<Figure size 432x288 with 1 Axes>"
      ]
     },
     "metadata": {
      "needs_background": "light"
     },
     "output_type": "display_data"
    }
   ],
   "source": [
    "data = {\"Tyr\" : 2, \"Ala\":3, \"Leu\":1}\n",
    "names = list(data.keys())\n",
    "values = list(data.values())\n",
    "fig = plt.bar(names, values)\n",
    "plt.ylabel(\"Occurences\")\n",
    "plt.xlabel(\"Acide aminés\")\n",
    "plt.title (\"Frequences des acide aminées dans la séquence\")\n",
    "plt.show()"
   ]
  },
  {
   "cell_type": "code",
   "execution_count": null,
   "metadata": {},
   "outputs": [],
   "source": []
  },
  {
   "cell_type": "code",
   "execution_count": null,
   "metadata": {},
   "outputs": [],
   "source": []
  }
 ],
 "metadata": {
  "kernelspec": {
   "display_name": "Python 3",
   "language": "python",
   "name": "python3"
  },
  "language_info": {
   "codemirror_mode": {
    "name": "ipython",
    "version": 3
   },
   "file_extension": ".py",
   "mimetype": "text/x-python",
   "name": "python",
   "nbconvert_exporter": "python",
   "pygments_lexer": "ipython3",
   "version": "3.7.3"
  }
 },
 "nbformat": 4,
 "nbformat_minor": 2
}
